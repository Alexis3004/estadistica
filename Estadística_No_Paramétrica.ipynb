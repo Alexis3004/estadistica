{
  "nbformat": 4,
  "nbformat_minor": 0,
  "metadata": {
    "celltoolbar": "Slideshow",
    "kernelspec": {
      "display_name": "R",
      "language": "R",
      "name": "ir"
    },
    "language_info": {
      "codemirror_mode": "r",
      "file_extension": ".r",
      "mimetype": "text/x-r-source",
      "name": "R",
      "pygments_lexer": "r",
      "version": "3.6.1"
    },
    "colab": {
      "name": "cmanduar_Estadística_No_Paramétrica_con_Ejercicio.ipynb",
      "provenance": [],
      "collapsed_sections": [
        "Ne7bZw8CIJYz",
        "4wICqZtXchJi",
        "ivIRV560o28x"
      ],
      "include_colab_link": true
    }
  },
  "cells": [
    {
      "cell_type": "markdown",
      "metadata": {
        "id": "view-in-github",
        "colab_type": "text"
      },
      "source": [
        "<a href=\"https://colab.research.google.com/github/Alexis3004/estadistica/blob/master/Estad%C3%ADstica_No_Param%C3%A9trica.ipynb\" target=\"_parent\"><img src=\"https://colab.research.google.com/assets/colab-badge.svg\" alt=\"Open In Colab\"/></a>"
      ]
    },
    {
      "cell_type": "markdown",
      "metadata": {
        "id": "Czt0X7ycIJYz",
        "colab_type": "text"
      },
      "source": [
        "## Métodos No Paramétricos en Estadística\n",
        "\n",
        "<p align=\"justify\">Con base en los datos trabajados en el módulo de muestreo (archivo adjunto en el enlace) extraiga una muestra representativa (calcule el tamaño para un nivel de confianza de 89% y un error de 3% y use ese tamaño específico) y determine si la clasificación en niveles de desempeño en dos de las cinco competencias genéricas son producto del azar o no.\n",
        "\n",
        "Determine si esos resultados son independientes o dependientes entre sí.\n",
        "</p>\n",
        "<p align=\"justify\">\n",
        "Con la muestra, calcule un promedio general por estudiante para las cinco competencia y realice un ranking inicial y un ranking final por departamento; determine si hubo cambios significativos en esa clasificación</p>\n",
        "\n",
        "[Descargue el archivo aquí](https://www.dropbox.com/s/xgsf3l5gjw0h0q4/saberpro.RData?dl=1)\n"
      ]
    },
    {
      "cell_type": "markdown",
      "metadata": {
        "id": "FkKAme5OoWXQ",
        "colab_type": "text"
      },
      "source": [
        "### Tratamiento de datos"
      ]
    },
    {
      "cell_type": "code",
      "metadata": {
        "id": "CAeDPrg8_uYr",
        "colab_type": "code",
        "colab": {
          "base_uri": "https://localhost:8080/",
          "height": 51
        },
        "outputId": "a01239cd-e32b-4701-a052-6c09f15c6352"
      },
      "source": [
        "library(devtools)"
      ],
      "execution_count": null,
      "outputs": [
        {
          "output_type": "stream",
          "text": [
            "Loading required package: usethis\n",
            "\n"
          ],
          "name": "stderr"
        }
      ]
    },
    {
      "cell_type": "code",
      "metadata": {
        "id": "bplaMJClFQ9T",
        "colab_type": "code",
        "colab": {}
      },
      "source": [
        "load(url('https://www.dropbox.com/s/mp094kybobr2ubs/saberpro.RData?dl=1'))\n",
        "ls()"
      ],
      "execution_count": null,
      "outputs": []
    },
    {
      "cell_type": "code",
      "metadata": {
        "id": "Zsc0JOwjHBAp",
        "colab_type": "code",
        "colab": {}
      },
      "source": [
        "install.packages('coin')\n",
        "install.packages('plyr')\n",
        "install.packages('samplingbook')\n",
        "install_github('DFJL/samplingUtil')\n",
        "install.packages(\"magrittr\")\n",
        "install.packages(\"dplyr\")"
      ],
      "execution_count": null,
      "outputs": []
    },
    {
      "cell_type": "code",
      "metadata": {
        "id": "LMOLZq9sBVXV",
        "colab_type": "code",
        "colab": {}
      },
      "source": [
        "library(plyr)\n",
        "library(samplingbook) # llamamos la librería\n",
        "library(SamplingUtil)\n",
        "library(magrittr) # Permite leer la funcion %>% que se usa para asignar funciones a objetos\n",
        "library(dplyr) # Contiene la funcion select\n",
        "library(coin)\n",
        "library(tidyverse)"
      ],
      "execution_count": null,
      "outputs": []
    },
    {
      "cell_type": "markdown",
      "metadata": {
        "id": "58U_2wsf6TOS",
        "colab_type": "text"
      },
      "source": [
        "Se eliminan las filas dondé hay datos perdidos"
      ]
    },
    {
      "cell_type": "code",
      "metadata": {
        "id": "KIwuUnjb6woW",
        "colab_type": "code",
        "colab": {}
      },
      "source": [
        "sp161718 <- sp161718[is.na(sp161718$raz_cuant_punt) == FALSE & is.na(sp161718$lect_crit_punt) == FALSE & is.na(sp161718$comp_ciud_punt) == FALSE & is.na(sp161718$ingles_punt) == FALSE & is.na(sp161718$comu_escr_punt) == FALSE,]"
      ],
      "execution_count": null,
      "outputs": []
    },
    {
      "cell_type": "code",
      "metadata": {
        "id": "8nRhCNvzFsj9",
        "colab_type": "code",
        "colab": {}
      },
      "source": [
        "saberPro <- data.frame(\n",
        "  index = 1:nrow(sp161718),\n",
        "  periodo = sp161718$periodo,\n",
        "  departamento = sp161718$estu_depto_reside,\n",
        "  RC = sp161718$raz_cuant_punt,\n",
        "  PRC = sp161718$raz_cuant_des,\n",
        "  LC = sp161718$lect_crit_punt,\n",
        "  PLC = sp161718$lect_crit_des,\n",
        "  CC = sp161718$comp_ciud_punt,\n",
        "  PCC = sp161718$comp_ciud_des,\n",
        "  IN = sp161718$ingles_punt,\n",
        "  PIN = sp161718$ingles_desem,\n",
        "  CE = sp161718$comu_escr_punt,\n",
        "  PCE = sp161718$comu_escr_des\n",
        ")"
      ],
      "execution_count": null,
      "outputs": []
    },
    {
      "cell_type": "markdown",
      "metadata": {
        "id": "5akPUOdx6ilt",
        "colab_type": "text"
      },
      "source": [
        "Se colocan como factor ciertas variables categóticas y se arreglan algunos nombres de los departamentos"
      ]
    },
    {
      "cell_type": "code",
      "metadata": {
        "id": "XMyxo6jHJv_j",
        "colab_type": "code",
        "colab": {}
      },
      "source": [
        "primer <- substring(saberPro$periodo, 1,4) #A la serie periodo de dejamos sólo el año\n",
        "saberPro$periodo <- as.character(saberPro$periodo)  #convertimos la serie periodo a caracteres\n",
        "saberPro$periodo <- primer\n",
        "saberPro[,3]<-revalue(saberPro[,'departamento'],c('NARIÃƒâ€˜O'=\"NARIÑO\",'NARIÃ‘O'=\"NARIÑO\"))\n",
        "saberPro$periodo <- as.factor(saberPro$periodo)\n",
        "saberPro$PRC = as.factor(saberPro$PRC) \n",
        "saberPro$PLC = as.factor(saberPro$PLC) \n",
        "saberPro$PCC = as.factor(saberPro$PCC) \n",
        "saberPro$PIN = as.factor(saberPro$PIN) \n",
        "saberPro$PCE = as.factor(saberPro$PCE) "
      ],
      "execution_count": null,
      "outputs": []
    },
    {
      "cell_type": "code",
      "metadata": {
        "id": "vi3napodHoZe",
        "colab_type": "code",
        "colab": {
          "base_uri": "https://localhost:8080/",
          "height": 204
        },
        "outputId": "b1da70dc-2f48-4702-b5a2-92e7c3ec5610"
      },
      "source": [
        "head(saberPro)"
      ],
      "execution_count": null,
      "outputs": [
        {
          "output_type": "display_data",
          "data": {
            "text/plain": [
              "  index periodo departamento RC  PRC LC  PLC CC  PCC IN  PIN CE  PCE\n",
              "1 1     2016    ATLANTICO    160 3   130 2   167 3   160 A2  155 3  \n",
              "2 2     2016    CUNDINAMARCA 138 2   132 2    77 1   125 A1  164 3  \n",
              "3 3     2016    CALDAS       146 2   157 2   150 2   104 A1- 122 2  \n",
              "4 4     2016    MAGDALENA    160 3   172 3   151 2   160 A2  192 4  \n",
              "5 5     2016    CORDOBA      130 2   122 1   144 2   192 B1  131 2  \n",
              "6 6     2016    CAUCA        159 3   129 2   147 2   108 A1- 154 3  "
            ],
            "text/latex": "A data.frame: 6 × 13\n\\begin{tabular}{r|lllllllllllll}\n  & index & periodo & departamento & RC & PRC & LC & PLC & CC & PCC & IN & PIN & CE & PCE\\\\\n  & <int> & <fct> & <fct> & <int> & <fct> & <int> & <fct> & <int> & <fct> & <int> & <fct> & <int> & <fct>\\\\\n\\hline\n\t1 & 1 & 2016 & ATLANTICO    & 160 & 3 & 130 & 2 & 167 & 3 & 160 & A2  & 155 & 3\\\\\n\t2 & 2 & 2016 & CUNDINAMARCA & 138 & 2 & 132 & 2 &  77 & 1 & 125 & A1  & 164 & 3\\\\\n\t3 & 3 & 2016 & CALDAS       & 146 & 2 & 157 & 2 & 150 & 2 & 104 & A1- & 122 & 2\\\\\n\t4 & 4 & 2016 & MAGDALENA    & 160 & 3 & 172 & 3 & 151 & 2 & 160 & A2  & 192 & 4\\\\\n\t5 & 5 & 2016 & CORDOBA      & 130 & 2 & 122 & 1 & 144 & 2 & 192 & B1  & 131 & 2\\\\\n\t6 & 6 & 2016 & CAUCA        & 159 & 3 & 129 & 2 & 147 & 2 & 108 & A1- & 154 & 3\\\\\n\\end{tabular}\n",
            "text/markdown": "\nA data.frame: 6 × 13\n\n| <!--/--> | index &lt;int&gt; | periodo &lt;fct&gt; | departamento &lt;fct&gt; | RC &lt;int&gt; | PRC &lt;fct&gt; | LC &lt;int&gt; | PLC &lt;fct&gt; | CC &lt;int&gt; | PCC &lt;fct&gt; | IN &lt;int&gt; | PIN &lt;fct&gt; | CE &lt;int&gt; | PCE &lt;fct&gt; |\n|---|---|---|---|---|---|---|---|---|---|---|---|---|---|\n| 1 | 1 | 2016 | ATLANTICO    | 160 | 3 | 130 | 2 | 167 | 3 | 160 | A2  | 155 | 3 |\n| 2 | 2 | 2016 | CUNDINAMARCA | 138 | 2 | 132 | 2 |  77 | 1 | 125 | A1  | 164 | 3 |\n| 3 | 3 | 2016 | CALDAS       | 146 | 2 | 157 | 2 | 150 | 2 | 104 | A1- | 122 | 2 |\n| 4 | 4 | 2016 | MAGDALENA    | 160 | 3 | 172 | 3 | 151 | 2 | 160 | A2  | 192 | 4 |\n| 5 | 5 | 2016 | CORDOBA      | 130 | 2 | 122 | 1 | 144 | 2 | 192 | B1  | 131 | 2 |\n| 6 | 6 | 2016 | CAUCA        | 159 | 3 | 129 | 2 | 147 | 2 | 108 | A1- | 154 | 3 |\n\n",
            "text/html": [
              "<table>\n",
              "<caption>A data.frame: 6 × 13</caption>\n",
              "<thead>\n",
              "\t<tr><th></th><th scope=col>index</th><th scope=col>periodo</th><th scope=col>departamento</th><th scope=col>RC</th><th scope=col>PRC</th><th scope=col>LC</th><th scope=col>PLC</th><th scope=col>CC</th><th scope=col>PCC</th><th scope=col>IN</th><th scope=col>PIN</th><th scope=col>CE</th><th scope=col>PCE</th></tr>\n",
              "\t<tr><th></th><th scope=col>&lt;int&gt;</th><th scope=col>&lt;fct&gt;</th><th scope=col>&lt;fct&gt;</th><th scope=col>&lt;int&gt;</th><th scope=col>&lt;fct&gt;</th><th scope=col>&lt;int&gt;</th><th scope=col>&lt;fct&gt;</th><th scope=col>&lt;int&gt;</th><th scope=col>&lt;fct&gt;</th><th scope=col>&lt;int&gt;</th><th scope=col>&lt;fct&gt;</th><th scope=col>&lt;int&gt;</th><th scope=col>&lt;fct&gt;</th></tr>\n",
              "</thead>\n",
              "<tbody>\n",
              "\t<tr><th scope=row>1</th><td>1</td><td>2016</td><td>ATLANTICO   </td><td>160</td><td>3</td><td>130</td><td>2</td><td>167</td><td>3</td><td>160</td><td>A2 </td><td>155</td><td>3</td></tr>\n",
              "\t<tr><th scope=row>2</th><td>2</td><td>2016</td><td>CUNDINAMARCA</td><td>138</td><td>2</td><td>132</td><td>2</td><td> 77</td><td>1</td><td>125</td><td>A1 </td><td>164</td><td>3</td></tr>\n",
              "\t<tr><th scope=row>3</th><td>3</td><td>2016</td><td>CALDAS      </td><td>146</td><td>2</td><td>157</td><td>2</td><td>150</td><td>2</td><td>104</td><td>A1-</td><td>122</td><td>2</td></tr>\n",
              "\t<tr><th scope=row>4</th><td>4</td><td>2016</td><td>MAGDALENA   </td><td>160</td><td>3</td><td>172</td><td>3</td><td>151</td><td>2</td><td>160</td><td>A2 </td><td>192</td><td>4</td></tr>\n",
              "\t<tr><th scope=row>5</th><td>5</td><td>2016</td><td>CORDOBA     </td><td>130</td><td>2</td><td>122</td><td>1</td><td>144</td><td>2</td><td>192</td><td>B1 </td><td>131</td><td>2</td></tr>\n",
              "\t<tr><th scope=row>6</th><td>6</td><td>2016</td><td>CAUCA       </td><td>159</td><td>3</td><td>129</td><td>2</td><td>147</td><td>2</td><td>108</td><td>A1-</td><td>154</td><td>3</td></tr>\n",
              "</tbody>\n",
              "</table>\n"
            ]
          },
          "metadata": {
            "tags": []
          }
        }
      ]
    },
    {
      "cell_type": "markdown",
      "metadata": {
        "id": "6PhWz_NaN1z0",
        "colab_type": "text"
      },
      "source": [
        "Realizamos un muestro con un nivel de confianza del 95% y un error del 3%, pues con un nivel de confanza del 89% nos dimos cuenta que no era tan representativa"
      ]
    },
    {
      "cell_type": "code",
      "metadata": {
        "id": "QFxKEDv5N_tn",
        "colab_type": "code",
        "colab": {}
      },
      "source": [
        "#error del 3%, probabilidad de seleccionar los datos del 50%, nivel de confianza del 95%\n",
        "muestra <- sample.size.prop(e=0.03, P = 0.5, N = length(saberPro$RC), level = 0.95)$n\n",
        "P1<- sample(1:nrow(saberPro),size=muestra,replace=FALSE)"
      ],
      "execution_count": null,
      "outputs": []
    },
    {
      "cell_type": "markdown",
      "metadata": {
        "id": "JrUDc-dNr2FY",
        "colab_type": "text"
      },
      "source": [
        "Realizamos los estratos por departamento, pero también teniendo en cuenta el periodo"
      ]
    },
    {
      "cell_type": "code",
      "metadata": {
        "id": "nNW3ru0C7ohB",
        "colab_type": "code",
        "colab": {}
      },
      "source": [
        "Estratos<- saberPro %>%\n",
        "  select(departamento,periodo) %>%\n",
        "  group_by(departamento,periodo) %>%\n",
        "  summarise(n=n()) %>%\n",
        "  mutate(p=(n/725295))\n",
        "#Hallamos el tamaño de la muestra para cada estrato dependiendo de la muestra total\n",
        "P2<-nstrata(n=muestra,wh=Estratos[,4],method=\"proportional\")\n",
        "Estra<-data.frame(fac1=Estratos$departamento,fac2=Estratos$periodo,n=Estratos$n,P2)"
      ],
      "execution_count": null,
      "outputs": []
    },
    {
      "cell_type": "markdown",
      "metadata": {
        "id": "PJV25FWbsRZ6",
        "colab_type": "text"
      },
      "source": [
        "P3 es nuestra muestra por deartamentos y por periodos de tiempo"
      ]
    },
    {
      "cell_type": "code",
      "metadata": {
        "id": "ocC54SDq9FfD",
        "colab_type": "code",
        "colab": {}
      },
      "source": [
        "P3 <- c()\n",
        "a = c(4:nrow(Estra))\n",
        "for (i in a){\n",
        "  #construimos un vector con los índices que pertenecen a un departamento en específico y a un periodo en específico\n",
        "  vec <- saberPro[saberPro$periodo==Estra[i,2] & saberPro$departamento==Estra[i,1],'index']\n",
        "  sampl <- sample(vec,size=Estra[i,4],replace=FALSE)\n",
        "  #Construimos un vector que nos permita seleccionar la muestra:\n",
        "  P3<-append(P3,sampl)\n",
        "}"
      ],
      "execution_count": null,
      "outputs": []
    },
    {
      "cell_type": "markdown",
      "metadata": {
        "id": "Ne7bZw8CIJYz",
        "colab_type": "text"
      },
      "source": [
        "### Prueba de Bondad de Ajuste\n",
        "\n",
        "determine si la clasificación en niveles de desempeño en dos de las cinco competencias genéricas son producto del azar o no."
      ]
    },
    {
      "cell_type": "markdown",
      "metadata": {
        "id": "BdPR-T2CZr1G",
        "colab_type": "text"
      },
      "source": [
        "Las hipótesis\n",
        "\n",
        "* $H_{0}:$ No hay diferencia entre las proporciones de las categorías.\n",
        "* $H_{1}:$ Existe diferencia entre las proporciones de las categorías."
      ]
    },
    {
      "cell_type": "markdown",
      "metadata": {
        "id": "ugfterzCY5fu",
        "colab_type": "text"
      },
      "source": [
        "#####Observemos si los datos del Nivel de Desempeño Razonamiento Cuantitativo (PRC) son producto del azar."
      ]
    },
    {
      "cell_type": "code",
      "metadata": {
        "id": "SBvSV-SPYA8V",
        "colab_type": "code",
        "colab": {
          "base_uri": "https://localhost:8080/"
        },
        "outputId": "ea8d75cc-a4e6-4bb9-f652-4cbf677564d8"
      },
      "source": [
        "table(saberPro[P3,c('PRC')])"
      ],
      "execution_count": null,
      "outputs": [
        {
          "output_type": "display_data",
          "data": {
            "text/plain": [
              "\n",
              "  1   2   3   4 \n",
              "264 321 462  46 "
            ]
          },
          "metadata": {
            "tags": []
          }
        }
      ]
    },
    {
      "cell_type": "code",
      "metadata": {
        "id": "KcHe7s7EXwiI",
        "colab_type": "code",
        "colab": {
          "base_uri": "https://localhost:8080/"
        },
        "outputId": "9106232f-c6d3-4f84-ff02-ec0bf87190f2"
      },
      "source": [
        "chisq.test(table(saberPro[P3,c('PRC')]))"
      ],
      "execution_count": null,
      "outputs": [
        {
          "output_type": "display_data",
          "data": {
            "text/plain": [
              "\n",
              "\tChi-squared test for given probabilities\n",
              "\n",
              "data:  table(saberPro[P3, c(\"PRC\")])\n",
              "X-squared = 328.03, df = 3, p-value < 2.2e-16\n"
            ]
          },
          "metadata": {
            "tags": []
          }
        }
      ]
    },
    {
      "cell_type": "code",
      "metadata": {
        "id": "DqCy9G8SZ5qL",
        "colab_type": "code",
        "colab": {
          "base_uri": "https://localhost:8080/"
        },
        "outputId": "b04277e7-796a-4f29-efb0-4d41cd3cc586"
      },
      "source": [
        "with(chisq.test(table(saberPro[P3,c('PRC')])), data.frame(observed,expected))"
      ],
      "execution_count": null,
      "outputs": [
        {
          "output_type": "display_data",
          "data": {
            "text/plain": [
              "  Var1 Freq expected\n",
              "1 1    264  273.25  \n",
              "2 2    321  273.25  \n",
              "3 3    462  273.25  \n",
              "4 4     46  273.25  "
            ],
            "text/latex": "A data.frame: 4 × 3\n\\begin{tabular}{r|lll}\n  & Var1 & Freq & expected\\\\\n  & <fct> & <int> & <dbl>\\\\\n\\hline\n\t1 & 1 & 264 & 273.25\\\\\n\t2 & 2 & 321 & 273.25\\\\\n\t3 & 3 & 462 & 273.25\\\\\n\t4 & 4 &  46 & 273.25\\\\\n\\end{tabular}\n",
            "text/markdown": "\nA data.frame: 4 × 3\n\n| <!--/--> | Var1 &lt;fct&gt; | Freq &lt;int&gt; | expected &lt;dbl&gt; |\n|---|---|---|---|\n| 1 | 1 | 264 | 273.25 |\n| 2 | 2 | 321 | 273.25 |\n| 3 | 3 | 462 | 273.25 |\n| 4 | 4 |  46 | 273.25 |\n\n",
            "text/html": [
              "<table>\n",
              "<caption>A data.frame: 4 × 3</caption>\n",
              "<thead>\n",
              "\t<tr><th></th><th scope=col>Var1</th><th scope=col>Freq</th><th scope=col>expected</th></tr>\n",
              "\t<tr><th></th><th scope=col>&lt;fct&gt;</th><th scope=col>&lt;int&gt;</th><th scope=col>&lt;dbl&gt;</th></tr>\n",
              "</thead>\n",
              "<tbody>\n",
              "\t<tr><th scope=row>1</th><td>1</td><td>264</td><td>273.25</td></tr>\n",
              "\t<tr><th scope=row>2</th><td>2</td><td>321</td><td>273.25</td></tr>\n",
              "\t<tr><th scope=row>3</th><td>3</td><td>462</td><td>273.25</td></tr>\n",
              "\t<tr><th scope=row>4</th><td>4</td><td> 46</td><td>273.25</td></tr>\n",
              "</tbody>\n",
              "</table>\n"
            ]
          },
          "metadata": {
            "tags": []
          }
        }
      ]
    },
    {
      "cell_type": "markdown",
      "metadata": {
        "id": "xd0vmxQIbIy7",
        "colab_type": "text"
      },
      "source": [
        "<p align=\"justify\">Según la prueba X-squared, podemos observar que tenemos 3 grados de libertad y por el valor del P_Value rechazamos la hipótesis nula, por lo tanto concluimos que existe diferencia entre las proporciones de las categorías del nivel de desempeño de Razonamiento cuantitativo, además, debido a esto, es válido confirmar que <strong>los datos no son productos del Azar</strong>, por otro lado, vemos que el nivel de desempeño que más frecuencia posee, es el nivel 3 y que el nivel mas alto (4) es el que menor frecuencia presenta de todos los niveles</p>"
      ]
    },
    {
      "cell_type": "markdown",
      "metadata": {
        "id": "4wICqZtXchJi",
        "colab_type": "text"
      },
      "source": [
        "#####Observemos si los datos del Nivel de Desempeño Lectura Crítica (PLC) son producto del azar."
      ]
    },
    {
      "cell_type": "code",
      "metadata": {
        "id": "fVm5mebslzw4",
        "colab_type": "code",
        "colab": {
          "base_uri": "https://localhost:8080/"
        },
        "outputId": "003be578-b43c-4c74-c495-02112af6930d"
      },
      "source": [
        "chisq.test(table(saberPro[P3,c('PLC')]))"
      ],
      "execution_count": null,
      "outputs": [
        {
          "output_type": "display_data",
          "data": {
            "text/plain": [
              "\n",
              "\tChi-squared test for given probabilities\n",
              "\n",
              "data:  table(saberPro[P3, c(\"PLC\")])\n",
              "X-squared = 297.8, df = 3, p-value < 2.2e-16\n"
            ]
          },
          "metadata": {
            "tags": []
          }
        }
      ]
    },
    {
      "cell_type": "code",
      "metadata": {
        "id": "Zn0jvTxWl07p",
        "colab_type": "code",
        "colab": {
          "base_uri": "https://localhost:8080/"
        },
        "outputId": "9909f262-fc57-4def-e28c-82b297ebc2ad"
      },
      "source": [
        "with(chisq.test(table(saberPro[P3,c('PLC')])), data.frame(observed,expected))"
      ],
      "execution_count": null,
      "outputs": [
        {
          "output_type": "display_data",
          "data": {
            "text/plain": [
              "  Var1 Freq expected\n",
              "1 1    237  273.25  \n",
              "2 2    405  273.25  \n",
              "3 3    396  273.25  \n",
              "4 4     55  273.25  "
            ],
            "text/latex": "A data.frame: 4 × 3\n\\begin{tabular}{r|lll}\n  & Var1 & Freq & expected\\\\\n  & <fct> & <int> & <dbl>\\\\\n\\hline\n\t1 & 1 & 237 & 273.25\\\\\n\t2 & 2 & 405 & 273.25\\\\\n\t3 & 3 & 396 & 273.25\\\\\n\t4 & 4 &  55 & 273.25\\\\\n\\end{tabular}\n",
            "text/markdown": "\nA data.frame: 4 × 3\n\n| <!--/--> | Var1 &lt;fct&gt; | Freq &lt;int&gt; | expected &lt;dbl&gt; |\n|---|---|---|---|\n| 1 | 1 | 237 | 273.25 |\n| 2 | 2 | 405 | 273.25 |\n| 3 | 3 | 396 | 273.25 |\n| 4 | 4 |  55 | 273.25 |\n\n",
            "text/html": [
              "<table>\n",
              "<caption>A data.frame: 4 × 3</caption>\n",
              "<thead>\n",
              "\t<tr><th></th><th scope=col>Var1</th><th scope=col>Freq</th><th scope=col>expected</th></tr>\n",
              "\t<tr><th></th><th scope=col>&lt;fct&gt;</th><th scope=col>&lt;int&gt;</th><th scope=col>&lt;dbl&gt;</th></tr>\n",
              "</thead>\n",
              "<tbody>\n",
              "\t<tr><th scope=row>1</th><td>1</td><td>237</td><td>273.25</td></tr>\n",
              "\t<tr><th scope=row>2</th><td>2</td><td>405</td><td>273.25</td></tr>\n",
              "\t<tr><th scope=row>3</th><td>3</td><td>396</td><td>273.25</td></tr>\n",
              "\t<tr><th scope=row>4</th><td>4</td><td> 55</td><td>273.25</td></tr>\n",
              "</tbody>\n",
              "</table>\n"
            ]
          },
          "metadata": {
            "tags": []
          }
        }
      ]
    },
    {
      "cell_type": "markdown",
      "metadata": {
        "id": "da7MBWI4mZaE",
        "colab_type": "text"
      },
      "source": [
        "<p align=\"justify\">Según la prueba X-squared, podemos observar que tenemos 3 grados de libertad y por el valor del P_Value rechazamos la hipótesis nula, por lo tanto concluimos que existe diferencia entre las proporciones de las categorías del nivel de desempeño de Lectura Crítica, además, debido a esto, es válido confirmar que <strong>los datos no son productos del Azar</strong>, por otro lado, vemos que el nivel de desempeño que más frecuencia posee, es el nivel 2 y que el nivel mas alto (4) es el que menor frecuencia presenta de todos los niveles</p>"
      ]
    },
    {
      "cell_type": "markdown",
      "metadata": {
        "id": "ivIRV560o28x",
        "colab_type": "text"
      },
      "source": [
        "### Prueba de Independencia (Tablas de Contingencia)\n",
        "\n",
        "Determine si esos resultados son independientes o dependientes entre sí."
      ]
    },
    {
      "cell_type": "markdown",
      "metadata": {
        "id": "tlJIizXbpYZC",
        "colab_type": "text"
      },
      "source": [
        "Las hipótesis\n",
        "\n",
        "* $H_{0}:$ PRC y PLC Son Independientes\n",
        "* $H_{1}:$ PRC y PLC Son Dependientes"
      ]
    },
    {
      "cell_type": "code",
      "metadata": {
        "id": "CNC72mNNt1M0",
        "colab_type": "code",
        "colab": {
          "base_uri": "https://localhost:8080/",
          "height": 119
        },
        "outputId": "5cb0ff5f-78df-43e0-ae0e-f30888548fbd"
      },
      "source": [
        "with(saberPro[P3,], table(PRC,PLC))"
      ],
      "execution_count": null,
      "outputs": [
        {
          "output_type": "display_data",
          "data": {
            "text/plain": [
              "   PLC\n",
              "PRC   1   2   3   4\n",
              "  1 123 108  33   0\n",
              "  2  87 142  86   6\n",
              "  3  27 150 251  34\n",
              "  4   0   5  26  15"
            ]
          },
          "metadata": {
            "tags": []
          }
        }
      ]
    },
    {
      "cell_type": "code",
      "metadata": {
        "id": "dgqnH_n0uTt7",
        "colab_type": "code",
        "colab": {
          "base_uri": "https://localhost:8080/",
          "height": 136
        },
        "outputId": "d65a8c36-8559-43be-a700-ca85fcad2104"
      },
      "source": [
        "with(saberPro[P3,], chisq.test(table(PLC,PRC)))"
      ],
      "execution_count": null,
      "outputs": [
        {
          "output_type": "stream",
          "text": [
            "Warning message in chisq.test(table(PLC, PRC)):\n",
            "“Chi-squared approximation may be incorrect”\n"
          ],
          "name": "stderr"
        },
        {
          "output_type": "display_data",
          "data": {
            "text/plain": [
              "\n",
              "\tPearson's Chi-squared test\n",
              "\n",
              "data:  table(PLC, PRC)\n",
              "X-squared = 350.05, df = 9, p-value < 2.2e-16\n"
            ]
          },
          "metadata": {
            "tags": []
          }
        }
      ]
    },
    {
      "cell_type": "markdown",
      "metadata": {
        "id": "NRHL6aJ7vPdg",
        "colab_type": "text"
      },
      "source": [
        "<p align=\"justify\">Según el P_value del Pearson's Chi-squared test rechazamos la hipótesis nula y concluimos que el Nivel de Desempeño Lectura Crítica (PLC) y el Nivel de Desempeño Razonamiento Cuantitativo (PRC) son dependientes entre sí</p>"
      ]
    },
    {
      "cell_type": "markdown",
      "metadata": {
        "id": "BLFwc-R_wKsO",
        "colab_type": "text"
      },
      "source": [
        "### Prueba de Signos (Datos Ordenados)\n",
        "\n",
        "<p align=\"justify\">Con la muestra, calcule un promedio general por estudiante para las cinco competencias y realice un ranking inicial y un ranking final por departamento; determine si hubo cambios significativos en esa clasificación</p>"
      ]
    },
    {
      "cell_type": "markdown",
      "metadata": {
        "id": "0eWJuP3Ep8cK",
        "colab_type": "text"
      },
      "source": [
        "Creamos un el dataset Puntaje con el periodo de la prueba, el departamento y el puntaje total obtenido por el departamento para las 5 pruebas en cada periodo"
      ]
    },
    {
      "cell_type": "code",
      "metadata": {
        "id": "clyw4d6f6bKo",
        "colab_type": "code",
        "colab": {}
      },
      "source": [
        "Puntaje <- data.frame(\n",
        "  periodo = saberPro[P3,'periodo'],\n",
        "  departamento = saberPro[P3,'departamento'],\n",
        "  puntajeTotal = ((saberPro[P3,'RC']+saberPro[P3,'LC']+saberPro[P3,'CC']+saberPro[P3,'IN']+saberPro[P3,'CE'])/5)\n",
        ")"
      ],
      "execution_count": null,
      "outputs": []
    },
    {
      "cell_type": "markdown",
      "metadata": {
        "id": "5QVa_y-vqmUU",
        "colab_type": "text"
      },
      "source": [
        "Agrupamos los datos por departamento y periodo de tal modo que sólo tengamos un dato puntaje para un departamento en un periodo determinado"
      ]
    },
    {
      "cell_type": "code",
      "metadata": {
        "id": "cds-cxwV71Z7",
        "colab_type": "code",
        "colab": {}
      },
      "source": [
        "E<- Puntaje %>%\n",
        "  select(departamento,periodo,puntajeTotal) %>%\n",
        "  group_by(departamento,periodo) %>%\n",
        "  summarise(puntajeGlobal=mean(puntajeTotal))"
      ],
      "execution_count": null,
      "outputs": []
    },
    {
      "cell_type": "markdown",
      "metadata": {
        "id": "vlT1BsBhq1eQ",
        "colab_type": "text"
      },
      "source": [
        "Construimos el dataset del puntaje obtenido en un periodo  con respecto al departamento"
      ]
    },
    {
      "cell_type": "code",
      "metadata": {
        "id": "rzgidSCYPQn1",
        "colab_type": "code",
        "colab": {}
      },
      "source": [
        "p2017<-E[E$periodo=='2017',c('puntajeGlobal')]\n",
        "p2018<-E[E$periodo=='2018',c('puntajeGlobal')]\n",
        "p2016<-E[E$periodo=='2016',c('puntajeGlobal')]\n",
        "total <- data.frame(departamento=unique(E$departamento),P2016 = p2016,P2017 = p2017,P2018=p2018)\n",
        "names(total)<-c('departamento','P2016','P2017','P2018')"
      ],
      "execution_count": null,
      "outputs": []
    },
    {
      "cell_type": "code",
      "metadata": {
        "id": "IMd_HPR48-Ol",
        "colab_type": "code",
        "colab": {
          "base_uri": "https://localhost:8080/",
          "height": 204
        },
        "outputId": "b0827d51-c924-468e-df07-c6f594e2dfde"
      },
      "source": [
        "O2016<-total[,c(1,2)] %>% arrange(desc(P2016)) %>% mutate(puesto2016 = row_number())\n",
        "O2017<-total[,c(1,3)] %>% arrange(desc(P2017))  %>% mutate(puesto2017 = row_number())\n",
        "O2018<-total[,c(1,4)] %>% arrange(desc(P2018))  %>% mutate(puesto2018 = row_number())\n",
        "totalPuesto<- merge (O2016, O2017, by.x = \"departamento\",by.y = \"departamento\")\n",
        "totalPuesto<- merge (totalPuesto, O2018, by.x = \"departamento\",by.y = \"departamento\")\n",
        "totalPuesto <- totalPuesto %>% arrange(desc(P2016))\n",
        "head(totalPuesto)"
      ],
      "execution_count": null,
      "outputs": [
        {
          "output_type": "display_data",
          "data": {
            "text/plain": [
              "  departamento P2016    puesto2016 P2017    puesto2017 P2018    puesto2018\n",
              "1 EXTRANJERO   182.0000 1          146.8000 13         166.0000  1        \n",
              "2 BOGOTA       160.7212 2          156.7431  1         155.2816  4        \n",
              "3 CASANARE     154.6000 3          147.2000 12         156.9000  3        \n",
              "4 SANTANDER    153.7000 4          146.1444 15         148.2000  8        \n",
              "5 ANTIOQUIA    153.5238 5          149.6286  6         152.6524  5        \n",
              "6 ATLANTICO    153.3800 6          152.0200  4         138.0300 19        "
            ],
            "text/latex": "A data.frame: 6 × 7\n\\begin{tabular}{r|lllllll}\n  & departamento & P2016 & puesto2016 & P2017 & puesto2017 & P2018 & puesto2018\\\\\n  & <fct> & <dbl> & <int> & <dbl> & <int> & <dbl> & <int>\\\\\n\\hline\n\t1 & EXTRANJERO & 182.0000 & 1 & 146.8000 & 13 & 166.0000 &  1\\\\\n\t2 & BOGOTA     & 160.7212 & 2 & 156.7431 &  1 & 155.2816 &  4\\\\\n\t3 & CASANARE   & 154.6000 & 3 & 147.2000 & 12 & 156.9000 &  3\\\\\n\t4 & SANTANDER  & 153.7000 & 4 & 146.1444 & 15 & 148.2000 &  8\\\\\n\t5 & ANTIOQUIA  & 153.5238 & 5 & 149.6286 &  6 & 152.6524 &  5\\\\\n\t6 & ATLANTICO  & 153.3800 & 6 & 152.0200 &  4 & 138.0300 & 19\\\\\n\\end{tabular}\n",
            "text/markdown": "\nA data.frame: 6 × 7\n\n| <!--/--> | departamento &lt;fct&gt; | P2016 &lt;dbl&gt; | puesto2016 &lt;int&gt; | P2017 &lt;dbl&gt; | puesto2017 &lt;int&gt; | P2018 &lt;dbl&gt; | puesto2018 &lt;int&gt; |\n|---|---|---|---|---|---|---|---|\n| 1 | EXTRANJERO | 182.0000 | 1 | 146.8000 | 13 | 166.0000 |  1 |\n| 2 | BOGOTA     | 160.7212 | 2 | 156.7431 |  1 | 155.2816 |  4 |\n| 3 | CASANARE   | 154.6000 | 3 | 147.2000 | 12 | 156.9000 |  3 |\n| 4 | SANTANDER  | 153.7000 | 4 | 146.1444 | 15 | 148.2000 |  8 |\n| 5 | ANTIOQUIA  | 153.5238 | 5 | 149.6286 |  6 | 152.6524 |  5 |\n| 6 | ATLANTICO  | 153.3800 | 6 | 152.0200 |  4 | 138.0300 | 19 |\n\n",
            "text/html": [
              "<table>\n",
              "<caption>A data.frame: 6 × 7</caption>\n",
              "<thead>\n",
              "\t<tr><th></th><th scope=col>departamento</th><th scope=col>P2016</th><th scope=col>puesto2016</th><th scope=col>P2017</th><th scope=col>puesto2017</th><th scope=col>P2018</th><th scope=col>puesto2018</th></tr>\n",
              "\t<tr><th></th><th scope=col>&lt;fct&gt;</th><th scope=col>&lt;dbl&gt;</th><th scope=col>&lt;int&gt;</th><th scope=col>&lt;dbl&gt;</th><th scope=col>&lt;int&gt;</th><th scope=col>&lt;dbl&gt;</th><th scope=col>&lt;int&gt;</th></tr>\n",
              "</thead>\n",
              "<tbody>\n",
              "\t<tr><th scope=row>1</th><td>EXTRANJERO</td><td>182.0000</td><td>1</td><td>146.8000</td><td>13</td><td>166.0000</td><td> 1</td></tr>\n",
              "\t<tr><th scope=row>2</th><td>BOGOTA    </td><td>160.7212</td><td>2</td><td>156.7431</td><td> 1</td><td>155.2816</td><td> 4</td></tr>\n",
              "\t<tr><th scope=row>3</th><td>CASANARE  </td><td>154.6000</td><td>3</td><td>147.2000</td><td>12</td><td>156.9000</td><td> 3</td></tr>\n",
              "\t<tr><th scope=row>4</th><td>SANTANDER </td><td>153.7000</td><td>4</td><td>146.1444</td><td>15</td><td>148.2000</td><td> 8</td></tr>\n",
              "\t<tr><th scope=row>5</th><td>ANTIOQUIA </td><td>153.5238</td><td>5</td><td>149.6286</td><td> 6</td><td>152.6524</td><td> 5</td></tr>\n",
              "\t<tr><th scope=row>6</th><td>ATLANTICO </td><td>153.3800</td><td>6</td><td>152.0200</td><td> 4</td><td>138.0300</td><td>19</td></tr>\n",
              "</tbody>\n",
              "</table>\n"
            ]
          },
          "metadata": {
            "tags": []
          }
        }
      ]
    },
    {
      "cell_type": "markdown",
      "metadata": {
        "id": "v6OdWENBiu-5",
        "colab_type": "text"
      },
      "source": [
        "hipótesis:\n",
        "\n",
        "* $H_{0}: mediana = 0$\n",
        "* $H_{1}: mediana \\neq 0$"
      ]
    },
    {
      "cell_type": "markdown",
      "metadata": {
        "id": "v5oNNUb1oZTW",
        "colab_type": "text"
      },
      "source": [
        "Para los periodos 2016 y 2017"
      ]
    },
    {
      "cell_type": "code",
      "metadata": {
        "id": "hauHI44ii9lt",
        "colab_type": "code",
        "colab": {
          "base_uri": "https://localhost:8080/",
          "height": 136
        },
        "outputId": "8a43c28d-dd30-4373-87e3-f8c237e64674"
      },
      "source": [
        "wilcoxsign_test(puesto2016 ~ puesto2017, data = totalPuesto, distribution = \"exact\")"
      ],
      "execution_count": null,
      "outputs": [
        {
          "output_type": "display_data",
          "data": {
            "text/plain": [
              "\n",
              "\tExact Wilcoxon-Pratt Signed-Rank Test\n",
              "\n",
              "data:  y by x (pos, neg) \n",
              "\t stratified by block\n",
              "Z = -0.11122, p-value = 0.916\n",
              "alternative hypothesis: true mu is not equal to 0\n"
            ]
          },
          "metadata": {
            "tags": []
          }
        }
      ]
    },
    {
      "cell_type": "markdown",
      "metadata": {
        "id": "la_RKEuCpUIY",
        "colab_type": "text"
      },
      "source": [
        "Para los periodos 2016 y 2018"
      ]
    },
    {
      "cell_type": "code",
      "metadata": {
        "id": "wAxUmX-QpW4x",
        "colab_type": "code",
        "colab": {
          "base_uri": "https://localhost:8080/",
          "height": 136
        },
        "outputId": "44e40904-03c8-4685-8779-344b7d6522e4"
      },
      "source": [
        "wilcoxsign_test(puesto2016 ~ puesto2018, data = totalPuesto, distribution = \"exact\")"
      ],
      "execution_count": null,
      "outputs": [
        {
          "output_type": "display_data",
          "data": {
            "text/plain": [
              "\n",
              "\tExact Wilcoxon-Pratt Signed-Rank Test\n",
              "\n",
              "data:  y by x (pos, neg) \n",
              "\t stratified by block\n",
              "Z = -0.085612, p-value = 0.936\n",
              "alternative hypothesis: true mu is not equal to 0\n"
            ]
          },
          "metadata": {
            "tags": []
          }
        }
      ]
    },
    {
      "cell_type": "markdown",
      "metadata": {
        "id": "lEURnA3hpYSv",
        "colab_type": "text"
      },
      "source": [
        "Para los periodos 2017 y 2018"
      ]
    },
    {
      "cell_type": "code",
      "metadata": {
        "id": "hgecnYxdpdUc",
        "colab_type": "code",
        "colab": {
          "base_uri": "https://localhost:8080/",
          "height": 136
        },
        "outputId": "c751a4e2-3ddb-4f0f-cda8-6e1394dd0129"
      },
      "source": [
        "wilcoxsign_test(puesto2017 ~ puesto2018, data = totalPuesto, distribution = \"exact\")"
      ],
      "execution_count": null,
      "outputs": [
        {
          "output_type": "display_data",
          "data": {
            "text/plain": [
              "\n",
              "\tExact Wilcoxon-Pratt Signed-Rank Test\n",
              "\n",
              "data:  y by x (pos, neg) \n",
              "\t stratified by block\n",
              "Z = 0.17968, p-value = 0.8626\n",
              "alternative hypothesis: true mu is not equal to 0\n"
            ]
          },
          "metadata": {
            "tags": []
          }
        }
      ]
    },
    {
      "cell_type": "markdown",
      "metadata": {
        "id": "jFeTtdgol1xG",
        "colab_type": "text"
      },
      "source": [
        "<p align=\"justify\">Según el P_value de nuestos test exactos de Wilcoxon-Pratt no negamos la hipótesis nula y concluimos que la mediana es igual a cero o lo que significa que que no hubo cambios en el promedio general de la prueba para cada departamento en cada periodo, o que más de la mitad de los datos no cambiaron significativamente, por lo tanto podemos decir que los cambios que se presentaron en comparación con cada periodo, son probablemente producto del azar</p>"
      ]
    },
    {
      "cell_type": "markdown",
      "metadata": {
        "id": "vcOhjLxArdSD",
        "colab_type": "text"
      },
      "source": [
        "### Conclusiones\n",
        "\n",
        "<p align=\"justify\">Podemos concluir que los resultados de los diferentes niveles o categorías de desempeño de la prueba saber pro, son diferentes o existen diferencias entre ellas, por lo tanto afirmamos que estos resultados no son producto del azar, además que dichos resultados dependen unos de los otros y por lo tanto se pudo hallar que no han habito cambios estadísticamente significativos hablando del puntaje total que los departamentos han obtenido a través de los periodos 2016, 2017 y 2018 </p>\n"
      ]
    }
  ]
}